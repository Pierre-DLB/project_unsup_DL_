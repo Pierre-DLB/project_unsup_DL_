{
  "nbformat": 4,
  "nbformat_minor": 0,
  "metadata": {
    "colab": {
      "provenance": []
    },
    "kernelspec": {
      "name": "python3",
      "display_name": "Python 3"
    },
    "language_info": {
      "name": "python"
    }
  },
  "cells": [
    {
      "cell_type": "markdown",
      "source": [
        "In this Google Colab cell, we will be downloading two distinct datasets for a text style transfer task. The goal is to develop a model capable of translating text between the writing styles of William Shakespeare and a more modern English author. For this purpose, we have chosen two datasets:\n",
        "\n",
        "    Shakespeare's Complete Works: This dataset includes the entire collection of plays and poems written by William Shakespeare. Shakespeare's works represent early modern English with a rich and unique style, making them ideal for studying stylistic differences compared to contemporary English.\n",
        "\n",
        "    \"Pride and Prejudice\" by Jane Austen: As a representative of more modern English, we've chosen Jane Austen's famous novel \"Pride and Prejudice\". While not contemporary in the current sense, Austen's language is more aligned with modern English than Shakespeare's, yet it maintains a level of formality and complexity in its style. This contrast will provide a challenging yet insightful basis for the style transfer model.\n",
        "\n",
        "By downloading and utilizing these two datasets, we aim to explore the nuances of linguistic style transfer, particularly focusing on the transformation of syntactic and stylistic elements between the two distinct forms of English.\n",
        "\n",
        "The following script will download both datasets from Project Gutenberg, which is a reliable source for public domain texts:"
      ],
      "metadata": {
        "id": "LhFZbGtMwAWs"
      }
    },
    {
      "cell_type": "code",
      "execution_count": null,
      "metadata": {
        "colab": {
          "base_uri": "https://localhost:8080/"
        },
        "id": "-Fw7zP0hto3b",
        "outputId": "9477fd69-3881-4a27-d628-2fc2d25e5900"
      },
      "outputs": [
        {
          "output_type": "stream",
          "name": "stdout",
          "text": [
            "Downloaded Shakespeare's Complete Works\n",
            "Downloaded 'Pride and Prejudice' by Jane Austen\n"
          ]
        }
      ],
      "source": [
        "import requests\n",
        "\n",
        "# Download Shakespeare's Complete Works\n",
        "shakespeare_url = 'https://www.gutenberg.org/files/100/100-0.txt'\n",
        "response = requests.get(shakespeare_url)\n",
        "\n",
        "if response.status_code == 200:\n",
        "    shakespeare_text = response.text\n",
        "    with open('shakespeare_complete_works.txt', 'w', encoding='utf-8') as file:\n",
        "        file.write(shakespeare_text)\n",
        "    print(\"Downloaded Shakespeare's Complete Works\")\n",
        "else:\n",
        "    print(\"Failed to download Shakespeare's Complete Works\")\n",
        "\n",
        "# Download \"Pride and Prejudice\" by Jane Austen\n",
        "pride_prejudice_url = 'https://www.gutenberg.org/files/1342/1342-0.txt'\n",
        "response = requests.get(pride_prejudice_url)\n",
        "\n",
        "if response.status_code == 200:\n",
        "    pride_prejudice_text = response.text\n",
        "    with open('pride_and_prejudice.txt', 'w', encoding='utf-8') as file:\n",
        "        file.write(pride_prejudice_text)\n",
        "    print(\"Downloaded 'Pride and Prejudice' by Jane Austen\")\n",
        "else:\n",
        "    print(\"Failed to download 'Pride and Prejudice'\")\n"
      ]
    },
    {
      "cell_type": "markdown",
      "source": [
        "To achieve style transfer between Shakespearean English and more modern English using the datasets provided, you can follow these steps:\n",
        "\n",
        "- **Data Preprocessing**:\n",
        "  - Tokenize and clean both datasets. This includes removing special characters, headers, and footers from the Project Gutenberg files.\n",
        "  - Break down the text into smaller chunks (e.g., sentences or paragraphs) for easier processing.\n",
        "\n",
        "- **Exploratory Data Analysis (EDA)**:\n",
        "  - Analyze the unique characteristics of each style, such as common words, sentence length, and syntactic structures.\n",
        "  - Use visualization tools to highlight these differences.\n",
        "\n",
        "- **Creating a Pseudo Parallel Corpus**\n",
        "  - Explain why we need that\n",
        "  - Propose unsupervised methods to find semantically similar sentences across the two datasets.\n",
        "  - Check if they do indeed match\n",
        "\n",
        "- **Model Selection and Implementation**:\n",
        "  - **Choose a suitable NLP model for style transfer.** Discuss this choice\n",
        "  - Fine-tune the model on the style transfer task using the prepared datasets.\n",
        "\n",
        "Further, if time allows:\n",
        "- **Evaluation**:\n",
        "  - Develop a set of metrics to evaluate the effectiveness of the style transfer, such as BLEU score, perplexity, and a qualitative assessment by human readers.\n",
        "  - Compare the output of the model with the target style to assess how well it has captured the stylistic elements.\n"
      ],
      "metadata": {
        "id": "Nz46eOO9weVr"
      }
    },
    {
      "cell_type": "code",
      "source": [],
      "metadata": {
        "id": "TTItz6c3wZuC"
      },
      "execution_count": null,
      "outputs": []
    }
  ]
}