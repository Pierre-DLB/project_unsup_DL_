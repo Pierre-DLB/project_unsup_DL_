{
  "cells": [
    {
      "cell_type": "markdown",
      "metadata": {
        "id": "LhFZbGtMwAWs"
      },
      "source": [
        "In this Google Colab cell, we will be downloading two distinct datasets for a text style transfer task. The goal is to develop a model capable of translating text between the writing styles of William Shakespeare and a more modern English author. For this purpose, we have chosen two datasets:\n",
        "\n",
        "    Shakespeare's Complete Works: This dataset includes the entire collection of plays and poems written by William Shakespeare. Shakespeare's works represent early modern English with a rich and unique style, making them ideal for studying stylistic differences compared to contemporary English.\n",
        "\n",
        "    \"Pride and Prejudice\" by Jane Austen: As a representative of more modern English, we've chosen Jane Austen's famous novel \"Pride and Prejudice\". While not contemporary in the current sense, Austen's language is more aligned with modern English than Shakespeare's, yet it maintains a level of formality and complexity in its style. This contrast will provide a challenging yet insightful basis for the style transfer model.\n",
        "\n",
        "By downloading and utilizing these two datasets, we aim to explore the nuances of linguistic style transfer, particularly focusing on the transformation of syntactic and stylistic elements between the two distinct forms of English.\n",
        "\n",
        "The following script will download both datasets from Project Gutenberg, which is a reliable source for public domain texts:"
      ]
    },
    {
      "cell_type": "code",
      "execution_count": 1,
      "metadata": {
        "colab": {
          "base_uri": "https://localhost:8080/"
        },
        "id": "-Fw7zP0hto3b",
        "outputId": "9477fd69-3881-4a27-d628-2fc2d25e5900"
      },
      "outputs": [
        {
          "name": "stdout",
          "output_type": "stream",
          "text": [
            "Downloaded Shakespeare's Complete Works\n",
            "Downloaded 'Pride and Prejudice' by Jane Austen\n"
          ]
        }
      ],
      "source": [
        "import requests\n",
        "\n",
        "# Download Shakespeare's Complete Works\n",
        "shakespeare_url = 'https://www.gutenberg.org/files/100/100-0.txt'\n",
        "response = requests.get(shakespeare_url)\n",
        "\n",
        "if response.status_code == 200:\n",
        "    shakespeare_text = response.text\n",
        "    with open('shakespeare_complete_works.txt', 'w', encoding='utf-8') as file:\n",
        "        file.write(shakespeare_text)\n",
        "    print(\"Downloaded Shakespeare's Complete Works\")\n",
        "else:\n",
        "    print(\"Failed to download Shakespeare's Complete Works\")\n",
        "\n",
        "# Download \"Pride and Prejudice\" by Jane Austen\n",
        "pride_prejudice_url = 'https://www.gutenberg.org/files/1342/1342-0.txt'\n",
        "response = requests.get(pride_prejudice_url)\n",
        "\n",
        "if response.status_code == 200:\n",
        "    pride_prejudice_text = response.text\n",
        "    with open('pride_and_prejudice.txt', 'w', encoding='utf-8') as file:\n",
        "        file.write(pride_prejudice_text)\n",
        "    print(\"Downloaded 'Pride and Prejudice' by Jane Austen\")\n",
        "else:\n",
        "    print(\"Failed to download 'Pride and Prejudice'\")\n"
      ]
    },
    {
      "cell_type": "markdown",
      "metadata": {
        "id": "Nz46eOO9weVr"
      },
      "source": [
        "To achieve style transfer between Shakespearean English and more modern English using the datasets provided, you can follow these steps:\n",
        "\n",
        "- **Data Preprocessing**:\n",
        "  - Tokenize and clean both datasets. This includes removing special characters, headers, and footers from the Project Gutenberg files.\n",
        "  - Break down the text into smaller chunks (e.g., sentences or paragraphs) for easier processing.\n",
        "\n",
        "- **Exploratory Data Analysis (EDA)**:\n",
        "  - Analyze the unique characteristics of each style, such as common words, sentence length, and syntactic structures.\n",
        "  - Use visualization tools to highlight these differences.\n",
        "\n",
        "- **Creating a Pseudo Parallel Corpus**\n",
        "  - Explain why we need that\n",
        "  - Propose unsupervised methods to find semantically similar sentences across the two datasets.\n",
        "  - Check if they do indeed match\n",
        "\n",
        "- **Model Selection and Implementation**:\n",
        "  - **Choose a suitable NLP model for style transfer.** Discuss this choice\n",
        "  - Fine-tune the model on the style transfer task using the prepared datasets.\n",
        "\n",
        "Further, if time allows:\n",
        "- **Evaluation**:\n",
        "  - Develop a set of metrics to evaluate the effectiveness of the style transfer, such as BLEU score, perplexity, and a qualitative assessment by human readers.\n",
        "  - Compare the output of the model with the target style to assess how well it has captured the stylistic elements.\n"
      ]
    },
    {
      "cell_type": "markdown",
      "metadata": {},
      "source": [
        "To dos:\n",
        "\n",
        "1. Pride and Prejudice cleaning @Now\n",
        "\n",
        "2. Shakespear cleaning @Now\n",
        "\n",
        "3. Research and understand Pseudo Parallel Corpus + how to incorporate both datasets @Now\n",
        "\n",
        "4. Identify 1-2 model architectures (shakespearian style-transfers, fine-tuned GP LLMs): e.g. {https://github.com/ToruOwO/style-transfer-writing} @Next\n",
        "\n",
        "5. Visualisation @Last\n",
        "\n",
        "6. Train models a shakespear-to-modern style transfer model and then better general purpose models @Last\n"
      ]
    },
    {
      "cell_type": "markdown",
      "metadata": {},
      "source": [
        "## Data Preprocessing"
      ]
    },
    {
      "cell_type": "markdown",
      "metadata": {},
      "source": [
        "Both datasets appear quite different and will require unique preprocessing methods."
      ]
    },
    {
      "cell_type": "code",
      "execution_count": null,
      "metadata": {
        "id": "TTItz6c3wZuC"
      },
      "outputs": [],
      "source": []
    },
    {
      "cell_type": "markdown",
      "metadata": {},
      "source": [
        "## Pseudo Parallel Corpus"
      ]
    },
    {
      "cell_type": "markdown",
      "metadata": {},
      "source": [
        "A pseudo parallel corpus is a type of linguistic resource used in natural language processing (NLP) and machine translation. It's a collection of texts that are not originally parallel but have been aligned or matched to function as a parallel corpus. Here's a breakdown of what this means:\n",
        "\n",
        "1. **Parallel Corpus**: In NLP, a parallel corpus typically consists of a set of documents in one language and their direct translations in another language. These corpora are essential for training machine translation systems and for other multilingual tasks.\n",
        "\n",
        "2. **Pseudo Parallel**: The term \"pseudo\" indicates that the corpus is not naturally parallel. In a pseudo parallel corpus, the text pairs are not exact translations of each other. Instead, they are independently created documents that are similar in content, style, or topic.\n",
        "\n",
        "3. **Uses and Creation**: Pseudo parallel corpora are often used when a true parallel corpus is unavailable for a particular language pair or domain. They can be created by aligning texts based on similarity metrics, using techniques like statistical machine translation models or deep learning methods to find text pairs that convey similar information.\n",
        "\n",
        "4. **Applications**: These corpora are valuable in scenarios where bilingual data is scarce. They can help in training machine translation systems, especially for low-resource languages. They're also used in cross-lingual information retrieval and text summarization, where understanding the gist of texts across languages is crucial.\n",
        "\n",
        "In summary, a pseudo parallel corpus is an artificially created resource that simulates a parallel corpus, enabling various multilingual NLP tasks in scenarios where direct translations are not available."
      ]
    }
  ],
  "metadata": {
    "colab": {
      "provenance": []
    },
    "kernelspec": {
      "display_name": "Python 3",
      "name": "python3"
    },
    "language_info": {
      "codemirror_mode": {
        "name": "ipython",
        "version": 3
      },
      "file_extension": ".py",
      "mimetype": "text/x-python",
      "name": "python",
      "nbconvert_exporter": "python",
      "pygments_lexer": "ipython3",
      "version": "3.10.12"
    }
  },
  "nbformat": 4,
  "nbformat_minor": 0
}
